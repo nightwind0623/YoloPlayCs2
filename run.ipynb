{
 "cells": [
  {
   "cell_type": "code",
   "execution_count": null,
   "metadata": {},
   "outputs": [],
   "source": [
    "from ultralytics import YOLOv10"
   ]
  },
  {
   "cell_type": "code",
   "execution_count": null,
   "metadata": {},
   "outputs": [],
   "source": [
    "\n",
    "if __name__ == '__main__':\n",
    "    model = YOLOv10.from_pretrained('jameslahm/yolov10m')\n",
    "    model.train(data=\"https://app.roboflow.com/ds/3WjLC3nB5I?key=8n9xvqTKBU\", epochs=350, amp=False)\n",
    "    model.val()\n",
    "    model.export(format=\"engine\")"
   ]
  },
  {
   "cell_type": "code",
   "execution_count": null,
   "metadata": {},
   "outputs": [],
   "source": [
    "if __name__ == '__main__':\n",
    "    model = YOLOv10(\"./runs/detect/train3/weights/last.pt\")\n",
    "    model.train(resume=True)\n",
    "    model.export(format=\"engine\")"
   ]
  },
  {
   "cell_type": "code",
   "execution_count": null,
   "metadata": {},
   "outputs": [],
   "source": [
    "if __name__ == '__main__':\n",
    "    model = YOLOv10(\"./runs/detect/train/weights/best.engine\")\n",
    "    model.val(data=\"./datasets/3WjLC3nB5I/data.yaml\")"
   ]
  }
 ],
 "metadata": {
  "language_info": {
   "name": "python"
  }
 },
 "nbformat": 4,
 "nbformat_minor": 2
}
